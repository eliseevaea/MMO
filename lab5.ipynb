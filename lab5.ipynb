{
 "cells": [
  {
   "cell_type": "markdown",
   "id": "7209f913",
   "metadata": {},
   "source": []
  },
  {
   "cell_type": "code",
   "execution_count": 1,
   "id": "70ed5a1c",
   "metadata": {},
   "outputs": [],
   "source": [
    "text = \"На следующий день, в воскресенье, в цирке давали три представления, и Чередниченко ходил на все три.Он от души смеялся, когда смуглый длинноволосый клоун с нерусской фамилией выкидывал разные штуки, тревожился, когда молодой паренек в красной рубахе гонял по арене, отгороженной от зрителей высокой клеткой, семь страшных львов, стегал их бичом… Но не ради клоуна и не ради страшных львов ухлопал Чередниченко шесть рублей, нет, не ради львов. Его глубоко взволновала девушка, которая открывала программу. Она взбиралась по веревке высоко вверх и там под музыку крутилась, вертелась, кувыркалась…\"\n"
   ]
  },
  {
   "cell_type": "code",
   "execution_count": 28,
   "id": "71c46369",
   "metadata": {},
   "outputs": [
    {
     "name": "stdout",
     "output_type": "stream",
     "text": [
      "Requirement already satisfied: nltk in c:\\users\\zenbook\\documents\\lab1\\.venv\\lib\\site-packages (3.6.2)\n",
      "Requirement already satisfied: click in c:\\users\\zenbook\\documents\\lab1\\.venv\\lib\\site-packages (from nltk) (7.1.2)"
     ]
    },
    {
     "name": "stderr",
     "output_type": "stream",
     "text": [
      "WARNING: You are using pip version 20.1.1; however, version 21.1.2 is available.\n",
      "You should consider upgrading via the 'c:\\users\\zenbook\\documents\\lab1\\.venv\\scripts\\python.exe -m pip install --upgrade pip' command.\n"
     ]
    },
    {
     "name": "stdout",
     "output_type": "stream",
     "text": [
      "\n",
      "Requirement already satisfied: joblib in c:\\users\\zenbook\\documents\\lab1\\.venv\\lib\\site-packages (from nltk) (1.0.1)\n",
      "Requirement already satisfied: regex in c:\\users\\zenbook\\documents\\lab1\\.venv\\lib\\site-packages (from nltk) (2021.4.4)\n",
      "Requirement already satisfied: tqdm in c:\\users\\zenbook\\documents\\lab1\\.venv\\lib\\site-packages (from nltk) (4.59.0)\n",
      "Requirement already satisfied: spacy in c:\\users\\zenbook\\documents\\lab1\\.venv\\lib\\site-packages (3.0.6)"
     ]
    },
    {
     "name": "stderr",
     "output_type": "stream",
     "text": [
      "WARNING: You are using pip version 20.1.1; however, version 21.1.2 is available.\n",
      "You should consider upgrading via the 'c:\\users\\zenbook\\documents\\lab1\\.venv\\scripts\\python.exe -m pip install --upgrade pip' command.\n"
     ]
    },
    {
     "name": "stdout",
     "output_type": "stream",
     "text": [
      "\n",
      "Requirement already satisfied: typing-extensions<4.0.0.0,>=3.7.4; python_version < \"3.8\" in c:\\users\\zenbook\\documents\\lab1\\.venv\\lib\\site-packages (from spacy) (3.7.4.3)\n",
      "Requirement already satisfied: numpy>=1.15.0 in c:\\users\\zenbook\\documents\\lab1\\.venv\\lib\\site-packages (from spacy) (1.20.1)\n",
      "Requirement already satisfied: murmurhash<1.1.0,>=0.28.0 in c:\\users\\zenbook\\documents\\lab1\\.venv\\lib\\site-packages (from spacy) (1.0.5)\n",
      "Requirement already satisfied: tqdm<5.0.0,>=4.38.0 in c:\\users\\zenbook\\documents\\lab1\\.venv\\lib\\site-packages (from spacy) (4.59.0)\n",
      "Requirement already satisfied: spacy-legacy<3.1.0,>=3.0.4 in c:\\users\\zenbook\\documents\\lab1\\.venv\\lib\\site-packages (from spacy) (3.0.5)\n",
      "Requirement already satisfied: jinja2 in c:\\users\\zenbook\\documents\\lab1\\.venv\\lib\\site-packages (from spacy) (2.11.3)\n",
      "Requirement already satisfied: cymem<2.1.0,>=2.0.2 in c:\\users\\zenbook\\documents\\lab1\\.venv\\lib\\site-packages (from spacy) (2.0.5)\n",
      "Requirement already satisfied: pathy>=0.3.5 in c:\\users\\zenbook\\documents\\lab1\\.venv\\lib\\site-packages (from spacy) (0.5.2)\n",
      "Requirement already satisfied: wasabi<1.1.0,>=0.8.1 in c:\\users\\zenbook\\documents\\lab1\\.venv\\lib\\site-packages (from spacy) (0.8.2)\n",
      "Requirement already satisfied: typer<0.4.0,>=0.3.0 in c:\\users\\zenbook\\documents\\lab1\\.venv\\lib\\site-packages (from spacy) (0.3.2)\n",
      "Requirement already satisfied: packaging>=20.0 in c:\\users\\zenbook\\documents\\lab1\\.venv\\lib\\site-packages (from spacy) (20.9)\n",
      "Requirement already satisfied: catalogue<2.1.0,>=2.0.3 in c:\\users\\zenbook\\documents\\lab1\\.venv\\lib\\site-packages (from spacy) (2.0.4)\n",
      "Requirement already satisfied: blis<0.8.0,>=0.4.0 in c:\\users\\zenbook\\documents\\lab1\\.venv\\lib\\site-packages (from spacy) (0.7.4)\n",
      "Requirement already satisfied: requests<3.0.0,>=2.13.0 in c:\\users\\zenbook\\documents\\lab1\\.venv\\lib\\site-packages (from spacy) (2.25.1)\n",
      "Requirement already satisfied: thinc<8.1.0,>=8.0.3 in c:\\users\\zenbook\\documents\\lab1\\.venv\\lib\\site-packages (from spacy) (8.0.3)\n",
      "Requirement already satisfied: srsly<3.0.0,>=2.4.1 in c:\\users\\zenbook\\documents\\lab1\\.venv\\lib\\site-packages (from spacy) (2.4.1)\n",
      "Requirement already satisfied: setuptools in c:\\users\\zenbook\\documents\\lab1\\.venv\\lib\\site-packages (from spacy) (47.1.0)\n",
      "Requirement already satisfied: pydantic<1.8.0,>=1.7.1 in c:\\users\\zenbook\\documents\\lab1\\.venv\\lib\\site-packages (from spacy) (1.7.4)\n",
      "Requirement already satisfied: preshed<3.1.0,>=3.0.2 in c:\\users\\zenbook\\documents\\lab1\\.venv\\lib\\site-packages (from spacy) (3.0.5)\n",
      "Requirement already satisfied: MarkupSafe>=0.23 in c:\\users\\zenbook\\documents\\lab1\\.venv\\lib\\site-packages (from jinja2->spacy) (1.1.1)\n",
      "Requirement already satisfied: smart-open<4.0.0,>=2.2.0 in c:\\users\\zenbook\\documents\\lab1\\.venv\\lib\\site-packages (from pathy>=0.3.5->spacy) (3.0.0)\n",
      "Requirement already satisfied: click<7.2.0,>=7.1.1 in c:\\users\\zenbook\\documents\\lab1\\.venv\\lib\\site-packages (from typer<0.4.0,>=0.3.0->spacy) (7.1.2)\n",
      "Requirement already satisfied: pyparsing>=2.0.2 in c:\\users\\zenbook\\documents\\lab1\\.venv\\lib\\site-packages (from packaging>=20.0->spacy) (2.4.7)\n",
      "Requirement already satisfied: zipp>=0.5; python_version < \"3.8\" in c:\\users\\zenbook\\documents\\lab1\\.venv\\lib\\site-packages (from catalogue<2.1.0,>=2.0.3->spacy) (3.4.0)\n",
      "Requirement already satisfied: idna<3,>=2.5 in c:\\users\\zenbook\\documents\\lab1\\.venv\\lib\\site-packages (from requests<3.0.0,>=2.13.0->spacy) (2.10)\n",
      "Requirement already satisfied: urllib3<1.27,>=1.21.1 in c:\\users\\zenbook\\documents\\lab1\\.venv\\lib\\site-packages (from requests<3.0.0,>=2.13.0->spacy) (1.26.5)\n",
      "Requirement already satisfied: certifi>=2017.4.17 in c:\\users\\zenbook\\documents\\lab1\\.venv\\lib\\site-packages (from requests<3.0.0,>=2.13.0->spacy) (2020.12.5)\n",
      "Requirement already satisfied: chardet<5,>=3.0.2 in c:\\users\\zenbook\\documents\\lab1\\.venv\\lib\\site-packages (from requests<3.0.0,>=2.13.0->spacy) (4.0.0)\n",
      "Requirement already satisfied: navec in c:\\users\\zenbook\\documents\\lab1\\.venv\\lib\\site-packages (0.10.0)\n",
      "Requirement already satisfied: numpy in c:\\users\\zenbook\\documents\\lab1\\.venv\\lib\\site-packages (from navec) (1.20.1)\n"
     ]
    },
    {
     "name": "stderr",
     "output_type": "stream",
     "text": [
      "WARNING: You are using pip version 20.1.1; however, version 21.1.2 is available.\n",
      "You should consider upgrading via the 'c:\\users\\zenbook\\documents\\lab1\\.venv\\scripts\\python.exe -m pip install --upgrade pip' command.\n"
     ]
    },
    {
     "name": "stdout",
     "output_type": "stream",
     "text": [
      "Requirement already satisfied: slovnet in c:\\users\\zenbook\\documents\\lab1\\.venv\\lib\\site-packages (0.5.0)\n",
      "Requirement already satisfied: navec in c:\\users\\zenbook\\documents\\lab1\\.venv\\lib\\site-packages (from slovnet) (0.10.0)\n",
      "Requirement already satisfied: numpy in c:\\users\\zenbook\\documents\\lab1\\.venv\\lib\\site-packages (from slovnet) (1.20.1)\n",
      "Requirement already satisfied: razdel in c:\\users\\zenbook\\documents\\lab1\\.venv\\lib\\site-packages (from slovnet) (0.5.0)\n"
     ]
    },
    {
     "name": "stderr",
     "output_type": "stream",
     "text": [
      "WARNING: You are using pip version 20.1.1; however, version 21.1.2 is available.\n",
      "You should consider upgrading via the 'c:\\users\\zenbook\\documents\\lab1\\.venv\\scripts\\python.exe -m pip install --upgrade pip' command.\n",
      "WARNING: You are using pip version 20.1.1; however, version 21.1.2 is available.\n",
      "You should consider upgrading via the 'c:\\users\\zenbook\\documents\\lab1\\.venv\\scripts\\python.exe -m pip install --upgrade pip' command.\n"
     ]
    },
    {
     "name": "stdout",
     "output_type": "stream",
     "text": [
      "Requirement already satisfied: razdel in c:\\users\\zenbook\\documents\\lab1\\.venv\\lib\\site-packages (0.5.0)\n",
      "Requirement already satisfied: natasha in c:\\users\\zenbook\\documents\\lab1\\.venv\\lib\\site-packages (1.4.0)\n",
      "Requirement already satisfied: razdel>=0.5.0 in c:\\users\\zenbook\\documents\\lab1\\.venv\\lib\\site-packages (from natasha) (0.5.0)\n",
      "Requirement already satisfied: yargy>=0.14.0 in c:\\users\\zenbook\\documents\\lab1\\.venv\\lib\\site-packages (from natasha) (0.15.0)\n",
      "Requirement already satisfied: slovnet>=0.3.0 in c:\\users\\zenbook\\documents\\lab1\\.venv\\lib\\site-packages (from natasha) (0.5.0)\n",
      "Requirement already satisfied: pymorphy2 in c:\\users\\zenbook\\documents\\lab1\\.venv\\lib\\site-packages (from natasha) (0.9.1)\n",
      "Requirement already satisfied: ipymarkup>=0.8.0 in c:\\users\\zenbook\\documents\\lab1\\.venv\\lib\\site-packages (from natasha) (0.9.0)\n",
      "Requirement already satisfied: navec>=0.9.0 in c:\\users\\zenbook\\documents\\lab1\\.venv\\lib\\site-packages (from natasha) (0.10.0)\n",
      "Requirement already satisfied: numpy in c:\\users\\zenbook\\documents\\lab1\\.venv\\lib\\site-packages (from slovnet>=0.3.0->natasha) (1.20.1)\n",
      "Requirement already satisfied: dawg-python>=0.7.1 in c:\\users\\zenbook\\documents\\lab1\\.venv\\lib\\site-packages (from pymorphy2->natasha) (0.7.2)\n",
      "Requirement already satisfied: docopt>=0.6 in c:\\users\\zenbook\\documents\\lab1\\.venv\\lib\\site-packages (from pymorphy2->natasha) (0.6.2)\n",
      "Requirement already satisfied: pymorphy2-dicts-ru<3.0,>=2.4 in c:\\users\\zenbook\\documents\\lab1\\.venv\\lib\\site-packages (from pymorphy2->natasha) (2.4.417127.4579844)\n",
      "Requirement already satisfied: intervaltree>=3 in c:\\users\\zenbook\\documents\\lab1\\.venv\\lib\\site-packages (from ipymarkup>=0.8.0->natasha) (3.1.0)\n",
      "Requirement already satisfied: sortedcontainers<3.0,>=2.0 in c:\\users\\zenbook\\documents\\lab1\\.venv\\lib\\site-packages (from intervaltree>=3->ipymarkup>=0.8.0->natasha) (2.4.0)\n"
     ]
    },
    {
     "name": "stderr",
     "output_type": "stream",
     "text": [
      "WARNING: You are using pip version 20.1.1; however, version 21.1.2 is available.\n",
      "You should consider upgrading via the 'c:\\users\\zenbook\\documents\\lab1\\.venv\\scripts\\python.exe -m pip install --upgrade pip' command.\n"
     ]
    }
   ],
   "source": [
    "!pip install nltk\n",
    "!pip install spacy\n",
    "!pip install navec\n",
    "!pip install slovnet\n",
    "!pip install razdel\n",
    "!pip install natasha"
   ]
  },
  {
   "cell_type": "markdown",
   "id": "a67fe758",
   "metadata": {},
   "source": [
    "Для произвольного предложения или текста решите следующие задачи:\n",
    "\n",
    "    Токенизация. \n",
    "    Частеречная разметка.\n",
    "    Лемматизация.\n",
    "    Выделение (распознавание) именованных сущностей.\n",
    "    Разбор предложения."
   ]
  },
  {
   "cell_type": "markdown",
   "id": "97a16074",
   "metadata": {},
   "source": [
    "## Токенизация"
   ]
  },
  {
   "cell_type": "code",
   "execution_count": 3,
   "id": "2c982468",
   "metadata": {},
   "outputs": [
    {
     "name": "stderr",
     "output_type": "stream",
     "text": [
      "[nltk_data] Downloading package punkt to\n",
      "[nltk_data]     C:\\Users\\Zenbook\\AppData\\Roaming\\nltk_data...\n",
      "[nltk_data]   Unzipping tokenizers\\punkt.zip.\n"
     ]
    },
    {
     "data": {
      "text/plain": [
       "True"
      ]
     },
     "execution_count": 3,
     "metadata": {},
     "output_type": "execute_result"
    }
   ],
   "source": [
    "import nltk\n",
    "nltk.download('punkt')"
   ]
  },
  {
   "cell_type": "code",
   "execution_count": 4,
   "id": "5c455606",
   "metadata": {},
   "outputs": [
    {
     "data": {
      "text/plain": [
       "['BlanklineTokenizer',\n",
       " 'LegalitySyllableTokenizer',\n",
       " 'LineTokenizer',\n",
       " 'MWETokenizer',\n",
       " 'NLTKWordTokenizer',\n",
       " 'PunktSentenceTokenizer',\n",
       " 'RegexpTokenizer',\n",
       " 'ReppTokenizer',\n",
       " 'SExprTokenizer',\n",
       " 'SpaceTokenizer',\n",
       " 'StanfordSegmenter',\n",
       " 'SyllableTokenizer',\n",
       " 'TabTokenizer',\n",
       " 'TextTilingTokenizer',\n",
       " 'ToktokTokenizer',\n",
       " 'TreebankWordTokenizer',\n",
       " 'TweetTokenizer',\n",
       " 'WhitespaceTokenizer']"
      ]
     },
     "execution_count": 4,
     "metadata": {},
     "output_type": "execute_result"
    }
   ],
   "source": [
    "from nltk import tokenize\n",
    "dir(tokenize)[:18]"
   ]
  },
  {
   "cell_type": "code",
   "execution_count": 5,
   "id": "220ceb6f",
   "metadata": {},
   "outputs": [
    {
     "data": {
      "text/plain": [
       "['На',\n",
       " 'следующий',\n",
       " 'день',\n",
       " ',',\n",
       " 'в',\n",
       " 'воскресенье',\n",
       " ',',\n",
       " 'в',\n",
       " 'цирке',\n",
       " 'давали',\n",
       " 'три',\n",
       " 'представления',\n",
       " ',',\n",
       " 'и',\n",
       " 'Чередниченко',\n",
       " 'ходил',\n",
       " 'на',\n",
       " 'все',\n",
       " 'три',\n",
       " '.',\n",
       " 'Он',\n",
       " 'от',\n",
       " 'души',\n",
       " 'смеялся',\n",
       " ',',\n",
       " 'когда',\n",
       " 'смуглый',\n",
       " 'длинноволосый',\n",
       " 'клоун',\n",
       " 'с',\n",
       " 'нерусской',\n",
       " 'фамилией',\n",
       " 'выкидывал',\n",
       " 'разные',\n",
       " 'штуки',\n",
       " ',',\n",
       " 'тревожился',\n",
       " ',',\n",
       " 'когда',\n",
       " 'молодой',\n",
       " 'паренек',\n",
       " 'в',\n",
       " 'красной',\n",
       " 'рубахе',\n",
       " 'гонял',\n",
       " 'по',\n",
       " 'арене',\n",
       " ',',\n",
       " 'отгороженной',\n",
       " 'от',\n",
       " 'зрителей',\n",
       " 'высокой',\n",
       " 'клеткой',\n",
       " ',',\n",
       " 'семь',\n",
       " 'страшных',\n",
       " 'львов',\n",
       " ',',\n",
       " 'стегал',\n",
       " 'их',\n",
       " 'бичом',\n",
       " '…',\n",
       " 'Но',\n",
       " 'не',\n",
       " 'ради',\n",
       " 'клоуна',\n",
       " 'и',\n",
       " 'не',\n",
       " 'ради',\n",
       " 'страшных',\n",
       " 'львов',\n",
       " 'ухлопал',\n",
       " 'Чередниченко',\n",
       " 'шесть',\n",
       " 'рублей',\n",
       " ',',\n",
       " 'нет',\n",
       " ',',\n",
       " 'не',\n",
       " 'ради',\n",
       " 'львов',\n",
       " '.',\n",
       " 'Его',\n",
       " 'глубоко',\n",
       " 'взволновала',\n",
       " 'девушка',\n",
       " ',',\n",
       " 'которая',\n",
       " 'открывала',\n",
       " 'программу',\n",
       " '.',\n",
       " 'Она',\n",
       " 'взбиралась',\n",
       " 'по',\n",
       " 'веревке',\n",
       " 'высоко',\n",
       " 'вверх',\n",
       " 'и',\n",
       " 'там',\n",
       " 'под',\n",
       " 'музыку',\n",
       " 'крутилась',\n",
       " ',',\n",
       " 'вертелась',\n",
       " ',',\n",
       " 'кувыркалась',\n",
       " '…']"
      ]
     },
     "execution_count": 5,
     "metadata": {},
     "output_type": "execute_result"
    }
   ],
   "source": [
    "nltk_tk_1 = nltk.WordPunctTokenizer()\n",
    "tokenized_text = nltk_tk_1.tokenize(text)\n",
    "tokenized_text"
   ]
  },
  {
   "cell_type": "code",
   "execution_count": 6,
   "id": "c54103e2",
   "metadata": {},
   "outputs": [
    {
     "name": "stdout",
     "output_type": "stream",
     "text": [
      "3\n"
     ]
    },
    {
     "data": {
      "text/plain": [
       "['На следующий день, в воскресенье, в цирке давали три представления, и Чередниченко ходил на все три.Он от души смеялся, когда смуглый длинноволосый клоун с нерусской фамилией выкидывал разные штуки, тревожился, когда молодой паренек в красной рубахе гонял по арене, отгороженной от зрителей высокой клеткой, семь страшных львов, стегал их бичом… Но не ради клоуна и не ради страшных львов ухлопал Чередниченко шесть рублей, нет, не ради львов.',\n",
       " 'Его глубоко взволновала девушка, которая открывала программу.',\n",
       " 'Она взбиралась по веревке высоко вверх и там под музыку крутилась, вертелась, кувыркалась…']"
      ]
     },
     "execution_count": 6,
     "metadata": {},
     "output_type": "execute_result"
    }
   ],
   "source": [
    "# Токенизация по предложениям\n",
    "nltk_tk_sents = nltk.tokenize.sent_tokenize(text)\n",
    "print(len(nltk_tk_sents))\n",
    "nltk_tk_sents"
   ]
  },
  {
   "cell_type": "markdown",
   "id": "6fe8b190",
   "metadata": {},
   "source": [
    "## Частеречная разметка"
   ]
  },
  {
   "cell_type": "code",
   "execution_count": 7,
   "id": "874a351b",
   "metadata": {},
   "outputs": [],
   "source": [
    "from navec import Navec\n",
    "from slovnet import Morph\n",
    "from razdel import tokenize, sentenize"
   ]
  },
  {
   "cell_type": "code",
   "execution_count": 8,
   "id": "6202f8d5",
   "metadata": {},
   "outputs": [],
   "source": [
    "# Этот вариант токенизации нужен для последующей обработки\n",
    "def n_sentenize(text):\n",
    "    n_sen_chunk = []\n",
    "    for sent in sentenize(text):\n",
    "        tokens = [_.text for _ in tokenize(sent.text)]\n",
    "        n_sen_chunk.append(tokens)\n",
    "    return n_sen_chunk"
   ]
  },
  {
   "cell_type": "code",
   "execution_count": 9,
   "id": "6f04ba43",
   "metadata": {},
   "outputs": [],
   "source": [
    "# Файл необходимо скачать по ссылке https://github.com/natasha/navec#downloads\n",
    "navec = Navec.load('navec_news_v1_1B_250K_300d_100q.tar')"
   ]
  },
  {
   "cell_type": "code",
   "execution_count": 10,
   "id": "40c6eda6",
   "metadata": {},
   "outputs": [],
   "source": [
    "n_morph = Morph.load('slovnet_morph_news_v1.tar', batch_size=4)"
   ]
  },
  {
   "cell_type": "code",
   "execution_count": 11,
   "id": "0b9480a8",
   "metadata": {},
   "outputs": [],
   "source": [
    "morph_res = n_morph.navec(navec)"
   ]
  },
  {
   "cell_type": "code",
   "execution_count": 12,
   "id": "c05e1f90",
   "metadata": {},
   "outputs": [],
   "source": [
    "def print_pos(markup):\n",
    "    for token in markup.tokens:\n",
    "        print('{} - {}'.format(token.text, token.tag))"
   ]
  },
  {
   "cell_type": "code",
   "execution_count": 13,
   "id": "0d6e20f3",
   "metadata": {},
   "outputs": [
    {
     "name": "stdout",
     "output_type": "stream",
     "text": [
      "На - ADP\n",
      "следующий - ADJ|Animacy=Inan|Case=Acc|Degree=Pos|Gender=Masc|Number=Sing\n",
      "день - NOUN|Animacy=Inan|Case=Acc|Gender=Masc|Number=Sing\n",
      ", - PUNCT\n",
      "в - ADP\n",
      "воскресенье - NOUN|Animacy=Inan|Case=Acc|Gender=Neut|Number=Sing\n",
      ", - PUNCT\n",
      "в - ADP\n",
      "цирке - NOUN|Animacy=Inan|Case=Loc|Gender=Masc|Number=Sing\n",
      "давали - VERB|Aspect=Imp|Mood=Ind|Number=Plur|Tense=Past|VerbForm=Fin|Voice=Act\n",
      "три - NUM|Animacy=Inan|Case=Acc\n",
      "представления - NOUN|Animacy=Inan|Case=Gen|Gender=Neut|Number=Sing\n",
      ", - PUNCT\n",
      "и - CCONJ\n",
      "Чередниченко - PROPN|Animacy=Anim|Case=Nom|Gender=Masc|Number=Sing\n",
      "ходил - VERB|Aspect=Imp|Gender=Masc|Mood=Ind|Number=Sing|Tense=Past|VerbForm=Fin|Voice=Act\n",
      "на - ADP\n",
      "все - DET|Animacy=Inan|Case=Acc|Number=Plur\n",
      "три - NUM|Animacy=Inan|Case=Acc\n",
      ". - PUNCT\n",
      "Он - PRON|Case=Nom|Gender=Masc|Number=Sing|Person=3\n",
      "от - ADP\n",
      "души - NOUN|Animacy=Inan|Case=Gen|Gender=Fem|Number=Sing\n",
      "смеялся - VERB|Aspect=Imp|Gender=Masc|Mood=Ind|Number=Sing|Tense=Past|VerbForm=Fin|Voice=Mid\n",
      ", - PUNCT\n",
      "когда - SCONJ\n",
      "смуглый - VERB|Aspect=Imp|Case=Nom|Gender=Masc|Number=Sing|Tense=Pres|VerbForm=Part|Voice=Act\n",
      "длинноволосый - ADJ|Case=Nom|Degree=Pos|Gender=Masc|Number=Sing\n",
      "клоун - NOUN|Animacy=Anim|Case=Nom|Gender=Masc|Number=Sing\n",
      "с - ADP\n",
      "нерусской - ADJ|Case=Ins|Degree=Pos|Gender=Fem|Number=Sing\n",
      "фамилией - NOUN|Animacy=Inan|Case=Ins|Gender=Fem|Number=Sing\n",
      "выкидывал - NOUN|Animacy=Inan|Case=Gen|Gender=Fem|Number=Sing\n",
      "разные - ADJ|Animacy=Inan|Case=Acc|Degree=Pos|Number=Plur\n",
      "штуки - NOUN|Animacy=Inan|Case=Acc|Gender=Fem|Number=Plur\n",
      ", - PUNCT\n",
      "тревожился - NOUN|Animacy=Inan|Case=Nom|Gender=Masc|Number=Plur\n",
      ", - PUNCT\n",
      "когда - SCONJ\n",
      "молодой - ADJ|Case=Nom|Degree=Pos|Gender=Masc|Number=Sing\n",
      "паренек - VERB|Aspect=Perf|Gender=Masc|Mood=Ind|Number=Sing|Tense=Past|VerbForm=Fin|Voice=Mid\n",
      "в - ADP\n",
      "красной - ADJ|Case=Loc|Degree=Pos|Gender=Fem|Number=Sing\n",
      "рубахе - NOUN|Animacy=Inan|Case=Loc|Gender=Fem|Number=Sing\n",
      "гонял - VERB|Aspect=Imp|Gender=Masc|Mood=Ind|Number=Sing|Tense=Past|VerbForm=Fin|Voice=Act\n",
      "по - ADP\n",
      "арене - NOUN|Animacy=Inan|Case=Dat|Gender=Fem|Number=Sing\n",
      ", - PUNCT\n",
      "отгороженной - VERB|Aspect=Imp|Tense=Pres|VerbForm=Conv|Voice=Mid\n",
      "от - ADP\n",
      "зрителей - NOUN|Animacy=Anim|Case=Gen|Gender=Masc|Number=Plur\n",
      "высокой - ADJ|Case=Ins|Degree=Pos|Gender=Fem|Number=Sing\n",
      "клеткой - NOUN|Animacy=Inan|Case=Ins|Gender=Fem|Number=Sing\n",
      ", - PUNCT\n",
      "семь - NUM|Case=Acc\n",
      "страшных - ADJ|Case=Gen|Degree=Pos|Number=Plur\n",
      "львов - NOUN|Animacy=Anim|Case=Gen|Gender=Masc|Number=Plur\n",
      ", - PUNCT\n",
      "стегал - VERB|Aspect=Imp|Tense=Pres|VerbForm=Conv|Voice=Act\n",
      "их - PRON|Animacy=Inan|Case=Acc|Number=Plur|Person=3\n",
      "бичом - NOUN|Animacy=Inan|Case=Ins|Gender=Neut|Number=Sing\n",
      "… - PUNCT\n",
      "Но - CCONJ\n",
      "не - PART|Polarity=Neg\n",
      "ради - ADP\n",
      "клоуна - NOUN|Animacy=Anim|Case=Gen|Gender=Masc|Number=Sing\n",
      "и - CCONJ\n",
      "не - PART|Polarity=Neg\n",
      "ради - ADP\n",
      "страшных - ADJ|Case=Gen|Degree=Pos|Number=Plur\n",
      "львов - NOUN|Animacy=Anim|Case=Gen|Gender=Masc|Number=Plur\n",
      "ухлопал - NOUN|Animacy=Anim|Case=Gen|Gender=Masc|Number=Plur\n",
      "Чередниченко - PROPN|Animacy=Anim|Case=Gen|Gender=Masc|Number=Sing\n",
      "шесть - NUM|Case=Acc\n",
      "рублей - NOUN|Animacy=Inan|Case=Gen|Gender=Masc|Number=Plur\n",
      ", - PUNCT\n",
      "нет - VERB|Aspect=Imp|Mood=Ind|Number=Sing|Person=3|Tense=Pres|VerbForm=Fin|Voice=Act\n",
      ", - PUNCT\n",
      "не - PART|Polarity=Neg\n",
      "ради - ADP\n",
      "львов - NOUN|Animacy=Anim|Case=Gen|Gender=Masc|Number=Plur\n",
      ". - PUNCT\n",
      "Его - PRON|Case=Acc|Gender=Masc|Number=Sing|Person=3\n",
      "глубоко - ADV|Degree=Pos\n",
      "взволновала - VERB|Aspect=Perf|Gender=Fem|Mood=Ind|Number=Sing|Tense=Past|VerbForm=Fin|Voice=Act\n",
      "девушка - NOUN|Animacy=Anim|Case=Nom|Gender=Fem|Number=Sing\n",
      ", - PUNCT\n",
      "которая - PRON|Case=Nom|Gender=Fem|Number=Sing\n",
      "открывала - VERB|Aspect=Imp|Gender=Fem|Mood=Ind|Number=Sing|Tense=Past|VerbForm=Fin|Voice=Act\n",
      "программу - NOUN|Animacy=Inan|Case=Acc|Gender=Fem|Number=Sing\n",
      ". - PUNCT\n",
      "Она - PRON|Case=Nom|Gender=Fem|Number=Sing|Person=3\n",
      "взбиралась - VERB|Aspect=Imp|Gender=Fem|Mood=Ind|Number=Sing|Tense=Past|VerbForm=Fin|Voice=Act\n",
      "по - ADP\n",
      "веревке - NOUN|Animacy=Inan|Case=Dat|Gender=Fem|Number=Sing\n",
      "высоко - ADV|Degree=Pos\n",
      "вверх - ADV|Degree=Pos\n",
      "и - CCONJ\n",
      "там - ADV|Degree=Pos\n",
      "под - ADP\n",
      "музыку - NOUN|Animacy=Inan|Case=Acc|Gender=Fem|Number=Sing\n",
      "крутилась - VERB|Aspect=Imp|Gender=Fem|Mood=Ind|Number=Sing|Tense=Past|VerbForm=Fin|Voice=Mid\n",
      ", - PUNCT\n",
      "вертелась - NOUN|Animacy=Inan|Case=Nom|Gender=Masc|Number=Sing\n",
      ", - PUNCT\n",
      "кувыркалась - NOUN|Animacy=Inan|Case=Nom|Gender=Masc|Number=Sing\n",
      "… - PUNCT\n"
     ]
    },
    {
     "data": {
      "text/plain": [
       "[None, None, None, None]"
      ]
     },
     "execution_count": 13,
     "metadata": {},
     "output_type": "execute_result"
    }
   ],
   "source": [
    "n_sen_chunk_1 = n_sentenize(text)\n",
    "n_text1_markup = list(_ for _ in n_morph.map(n_sen_chunk_1))\n",
    "[print_pos(x) for x in n_text1_markup]"
   ]
  },
  {
   "cell_type": "markdown",
   "id": "04629098",
   "metadata": {},
   "source": [
    "## Лемматизация"
   ]
  },
  {
   "cell_type": "code",
   "execution_count": 14,
   "id": "fe6a3c5c",
   "metadata": {},
   "outputs": [],
   "source": [
    "from natasha import Doc, Segmenter, NewsEmbedding, NewsMorphTagger, MorphVocab"
   ]
  },
  {
   "cell_type": "code",
   "execution_count": 15,
   "id": "edc44466",
   "metadata": {},
   "outputs": [],
   "source": [
    "def n_lemmatize(text):\n",
    "    emb = NewsEmbedding()\n",
    "    morph_tagger = NewsMorphTagger(emb)\n",
    "    segmenter = Segmenter()\n",
    "    morph_vocab = MorphVocab()\n",
    "    doc = Doc(text)\n",
    "    doc.segment(segmenter)\n",
    "    doc.tag_morph(morph_tagger)\n",
    "    for token in doc.tokens:\n",
    "        token.lemmatize(morph_vocab)\n",
    "    return doc"
   ]
  },
  {
   "cell_type": "code",
   "execution_count": 16,
   "id": "ece7f158",
   "metadata": {},
   "outputs": [
    {
     "data": {
      "text/plain": [
       "{'На': 'на',\n",
       " 'следующий': 'следующий',\n",
       " 'день': 'день',\n",
       " ',': ',',\n",
       " 'в': 'в',\n",
       " 'воскресенье': 'воскресение',\n",
       " 'цирке': 'цирк',\n",
       " 'давали': 'давать',\n",
       " 'три': 'три',\n",
       " 'представления': 'представление',\n",
       " 'и': 'и',\n",
       " 'Чередниченко': 'чередниченко',\n",
       " 'ходил': 'ходить',\n",
       " 'на': 'на',\n",
       " 'все': 'весь',\n",
       " '.': '.',\n",
       " 'Он': 'он',\n",
       " 'от': 'от',\n",
       " 'души': 'душа',\n",
       " 'смеялся': 'смеяться',\n",
       " 'когда': 'когда',\n",
       " 'смуглый': 'смуглый',\n",
       " 'длинноволосый': 'длинноволосый',\n",
       " 'клоун': 'клоун',\n",
       " 'с': 'с',\n",
       " 'нерусской': 'нерусский',\n",
       " 'фамилией': 'фамилия',\n",
       " 'выкидывал': 'выкидывать',\n",
       " 'разные': 'разный',\n",
       " 'штуки': 'штука',\n",
       " 'тревожился': 'тревожиться',\n",
       " 'молодой': 'молодой',\n",
       " 'паренек': 'паренек',\n",
       " 'красной': 'красный',\n",
       " 'рубахе': 'рубаха',\n",
       " 'гонял': 'гонять',\n",
       " 'по': 'по',\n",
       " 'арене': 'арена',\n",
       " 'отгороженной': 'отгородить',\n",
       " 'зрителей': 'зритель',\n",
       " 'высокой': 'высокий',\n",
       " 'клеткой': 'клетка',\n",
       " 'семь': 'семь',\n",
       " 'страшных': 'страшный',\n",
       " 'львов': 'лев',\n",
       " 'стегал': 'стегать',\n",
       " 'их': 'они',\n",
       " 'бичом': 'бич',\n",
       " '…': '…',\n",
       " 'Но': 'но',\n",
       " 'не': 'не',\n",
       " 'ради': 'ради',\n",
       " 'клоуна': 'клоун',\n",
       " 'ухлопал': 'ухлопать',\n",
       " 'шесть': 'шесть',\n",
       " 'рублей': 'рубль',\n",
       " 'нет': 'нет',\n",
       " 'Его': 'он',\n",
       " 'глубоко': 'глубоко',\n",
       " 'взволновала': 'взволновать',\n",
       " 'девушка': 'девушка',\n",
       " 'которая': 'который',\n",
       " 'открывала': 'открывать',\n",
       " 'программу': 'программа',\n",
       " 'Она': 'она',\n",
       " 'взбиралась': 'взбираться',\n",
       " 'веревке': 'веревка',\n",
       " 'высоко': 'высоко',\n",
       " 'вверх': 'вверх',\n",
       " 'там': 'там',\n",
       " 'под': 'под',\n",
       " 'музыку': 'музыка',\n",
       " 'крутилась': 'крутиться',\n",
       " 'вертелась': 'вертеться',\n",
       " 'кувыркалась': 'кувыркаться'}"
      ]
     },
     "execution_count": 16,
     "metadata": {},
     "output_type": "execute_result"
    }
   ],
   "source": [
    "n_doc1 = n_lemmatize(text)\n",
    "{_.text: _.lemma for _ in n_doc1.tokens}"
   ]
  },
  {
   "cell_type": "markdown",
   "id": "41504631",
   "metadata": {},
   "source": [
    "## Выделение (распознавание) именованных сущностей"
   ]
  },
  {
   "cell_type": "code",
   "execution_count": 17,
   "id": "ed334196",
   "metadata": {},
   "outputs": [],
   "source": [
    "from slovnet import NER\n",
    "from ipymarkup import show_span_ascii_markup as show_markup"
   ]
  },
  {
   "cell_type": "code",
   "execution_count": 18,
   "id": "72b4729b",
   "metadata": {},
   "outputs": [],
   "source": [
    "ner = NER.load('slovnet_ner_news_v1.tar')\n"
   ]
  },
  {
   "cell_type": "code",
   "execution_count": 19,
   "id": "5c6252bd",
   "metadata": {},
   "outputs": [],
   "source": [
    "ner_res = ner.navec(navec)"
   ]
  },
  {
   "cell_type": "code",
   "execution_count": 20,
   "id": "bcbd65f1",
   "metadata": {},
   "outputs": [],
   "source": [
    "markup_ner = ner(text)"
   ]
  },
  {
   "cell_type": "code",
   "execution_count": 21,
   "id": "bc847e18",
   "metadata": {},
   "outputs": [
    {
     "data": {
      "text/plain": [
       "SpanMarkup(\n",
       "    text='На следующий день, в воскресенье, в цирке давали три представления, и Чередниченко ходил на все три.Он от души смеялся, когда смуглый длинноволосый клоун с нерусской фамилией выкидывал разные штуки, тревожился, когда молодой паренек в красной рубахе гонял по арене, отгороженной от зрителей высокой клеткой, семь страшных львов, стегал их бичом… Но не ради клоуна и не ради страшных львов ухлопал Чередниченко шесть рублей, нет, не ради львов. Его глубоко взволновала девушка, которая открывала программу. Она взбиралась по веревке высоко вверх и там под музыку крутилась, вертелась, кувыркалась…',\n",
       "    spans=[Span(\n",
       "         start=70,\n",
       "         stop=82,\n",
       "         type='PER'\n",
       "     ),\n",
       "     Span(\n",
       "         start=397,\n",
       "         stop=409,\n",
       "         type='PER'\n",
       "     )]\n",
       ")"
      ]
     },
     "execution_count": 21,
     "metadata": {},
     "output_type": "execute_result"
    }
   ],
   "source": [
    "markup_ner"
   ]
  },
  {
   "cell_type": "code",
   "execution_count": 22,
   "id": "f045fdc9",
   "metadata": {},
   "outputs": [
    {
     "name": "stdout",
     "output_type": "stream",
     "text": [
      "На следующий день, в воскресенье, в цирке давали три представления, и \n",
      "Чередниченко ходил на все три.Он от души смеялся, когда смуглый \n",
      "PER─────────                                                    \n",
      "длинноволосый клоун с нерусской фамилией выкидывал разные штуки, \n",
      "тревожился, когда молодой паренек в красной рубахе гонял по арене, \n",
      "отгороженной от зрителей высокой клеткой, семь страшных львов, стегал \n",
      "их бичом… Но не ради клоуна и не ради страшных львов ухлопал \n",
      "Чередниченко шесть рублей, нет, не ради львов. Его глубоко взволновала\n",
      "PER─────────                                                          \n",
      " девушка, которая открывала программу. Она взбиралась по веревке \n",
      "высоко вверх и там под музыку крутилась, вертелась, кувыркалась…\n"
     ]
    }
   ],
   "source": [
    "show_markup(markup_ner.text, markup_ner.spans)"
   ]
  },
  {
   "cell_type": "markdown",
   "id": "9f24ad7e",
   "metadata": {},
   "source": [
    "## Разбор предложения"
   ]
  },
  {
   "cell_type": "code",
   "execution_count": 23,
   "id": "0acfb60f",
   "metadata": {},
   "outputs": [],
   "source": [
    "from natasha import NewsSyntaxParser"
   ]
  },
  {
   "cell_type": "code",
   "execution_count": 24,
   "id": "413c67c5",
   "metadata": {},
   "outputs": [],
   "source": [
    "emb = NewsEmbedding()\n",
    "syntax_parser = NewsSyntaxParser(emb)"
   ]
  },
  {
   "cell_type": "code",
   "execution_count": 25,
   "id": "4ea79d27",
   "metadata": {},
   "outputs": [
    {
     "name": "stdout",
     "output_type": "stream",
     "text": [
      "                                      ┌──► На            case\n",
      "                                      │ ┌► следующий     amod\n",
      "                      ┌──────────────►└─└─ день          obl\n",
      "                      │               ┌──► ,             punct\n",
      "                      │               │ ┌► в             case\n",
      "      ┌──────────────►│               └─└─ воскресенье   obl\n",
      "      │               │               └──► ,             punct\n",
      "      │               │                 ┌► в             case\n",
      "  ┌──►│               │                 └─ цирке         obl\n",
      "  │   │               │     ┌───────────── давали        \n",
      "  │   │               │     │           ┌► три           nummod:gov\n",
      "  │ ┌►│               │     │           └─ представления obj\n",
      "  │ │ │               │     │       ┌────► ,             punct\n",
      "  │ │ │               │     │       │ ┌──► и             cc\n",
      "  │ │ │               │     │       │ │ ┌► Чередниченко  nsubj\n",
      "  │ │ │               │ ┌─┌─│ ┌►┌─┌─└─└─└─ ходил         conj\n",
      "  │ │ │               │ │ │ │ │ │ │   ┌──► на            case\n",
      "  │ │ │               │ │ │ │ │ │ │   │ ┌► все           det\n",
      "  │ │ │               │ │ │ │ │ │ └──►└─└─ три           nummod:gov\n",
      "  │ │ │   ┌──────────►│ │ │ │ │ │          .             punct\n",
      "  │ │ │   │           │ │ │ │ │ └────────► Он            nsubj\n",
      "  │ │ │   │           │ │ │ │ │         ┌► от            case\n",
      "  │ │ │   │           │ │ │ └►│         └─ души          obl\n",
      "┌─│ │ │   │         ┌─└─│ │   └─────────── смеялся       \n",
      "│ │ │ │   │   ┌────►│   │ │                ,             punct\n",
      "│ │ │ │   │   │ ┌──►│   │ │                когда         mark\n",
      "│ │ │ │   │   │ │   │   │ │           ┌──► смуглый       amod\n",
      "│ │ │ │   │   │ │   │   │ │           │ ┌► длинноволосый amod\n",
      "│ │ │ │ ┌─│   │ │   │   │ └──────────►└─└─ клоун         nsubj\n",
      "│ │ │ │ │ │   │ │   │   │             ┌──► с             case\n",
      "│ │ │ │ │ │   │ │   │   │             │ ┌► нерусской     amod\n",
      "│ │ │ │ │ │   │ │   │   └────────────►└─└─ фамилией      obl\n",
      "│ │ │ └─│ │   │ │   │                 ┌─── выкидывал     \n",
      "│ │ │   │ │   │ │   │                 │ ┌► разные        amod\n",
      "│ │ │   │ │ ┌─│ │ ┌─│         ┌─────┌─└►└─ штуки         obj\n",
      "│ │ │   │ │ │ │ │ │ │         │     │   ┌► ,             punct\n",
      "│ │ │   │ │ │ │ │ │ │         │     └──►└─ тревожился    conj\n",
      "│ │ │   │ │ │ │ │ │ │         │   ┌──────► ,             punct\n",
      "│ │ │   │ │ │ │ │ │ │         │   │   ┌──► когда         mark\n",
      "│ │ │   │ │ │ │ │ │ │         │   │   │ ┌► молодой       nsubj\n",
      "│ │ │   │ │ │ │ │ │ │         │   │ ┌►└─└─ паренек       advcl\n",
      "│ │ │   │ │ │ │ │ │ │         │   │ │ ┌──► в             case\n",
      "│ │ │   │ │ │ │ │ │ │         │   │ │ │ ┌► красной       amod\n",
      "│ │ │   │ │ │ │ │ │ │         │   │ │ └─└─ рубахе        obl\n",
      "│ └─└───│ └─│ │ │ │ └────────►│ ┌─└─└─└─── гонял         ccomp\n",
      "│       │   │ │ │ │           │ │   │   ┌► по            case\n",
      "│       │   │ │ │ │           │ │   └──►└─ арене         obl\n",
      "│       │   │ │ │ │           │ │       ┌► ,             punct\n",
      "│       │   │ └─└─│           └►│     ┌─└─ отгороженной  acl\n",
      "│       │   │     │           │ │     │ ┌► от            case\n",
      "│       │   │     │           │ │     └►└─ зрителей      obl\n",
      "│       │   │     │           │ │       ┌► высокой       amod\n",
      "│       │   │     │           │ └──────►└─ клеткой       obl\n",
      "│       └──►│     │           │            ,             punct\n",
      "│           │     │           │       ┌──► семь          nummod:gov\n",
      "│           │     │           │       │ ┌► страшных      amod\n",
      "│           │     └──────────►│       └─└─ львов         conj\n",
      "│           │                 └──────────► ,             punct\n",
      "│           └────────────────────────►┌─── стегал        acl\n",
      "│                                     │ ┌► их            det\n",
      "│                                     └►└─ бичом         obl\n",
      "└────────────────────────────────────────► …             punct\n"
     ]
    }
   ],
   "source": [
    "n_doc1.parse_syntax(syntax_parser)\n",
    "n_doc1.sents[0].syntax.print()"
   ]
  },
  {
   "cell_type": "code",
   "execution_count": null,
   "id": "fc1164fb",
   "metadata": {},
   "outputs": [],
   "source": []
  },
  {
   "cell_type": "code",
   "execution_count": null,
   "id": "7ed629e1",
   "metadata": {},
   "outputs": [],
   "source": []
  }
 ],
 "metadata": {
  "kernelspec": {
   "display_name": "Python 3",
   "language": "python",
   "name": "python3"
  },
  "language_info": {
   "codemirror_mode": {
    "name": "ipython",
    "version": 3
   },
   "file_extension": ".py",
   "mimetype": "text/x-python",
   "name": "python",
   "nbconvert_exporter": "python",
   "pygments_lexer": "ipython3",
   "version": "3.7.9"
  }
 },
 "nbformat": 4,
 "nbformat_minor": 5
}
