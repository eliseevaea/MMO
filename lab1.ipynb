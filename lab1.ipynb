{
 "cells": [
  {
   "cell_type": "markdown",
   "id": "3a1fa171",
   "metadata": {},
   "source": [
    "## Студентка: Елисеева Елизавета ИУ5-23М\n"
   ]
  },
  {
   "cell_type": "code",
   "execution_count": 1,
   "id": "660e81bb",
   "metadata": {},
   "outputs": [],
   "source": [
    "import pandas as pd\n",
    "import numpy as np\n",
    "import matplotlib.pyplot as plt\n",
    "import scipy.stats as stats\n",
    "import seaborn as sns\n",
    "\n",
    "from sklearn.linear_model import Lasso\n",
    "from sklearn.feature_selection import SelectFromModel\n",
    "\n",
    "from sklearn.preprocessing import OneHotEncoder\n",
    "\n",
    "import sklearn"
   ]
  },
  {
   "cell_type": "code",
   "execution_count": 2,
   "id": "5ec0eca3",
   "metadata": {},
   "outputs": [],
   "source": [
    "data = pd.read_csv(\"weatherHistory.csv\")\n",
    "%matplotlib inline"
   ]
  },
  {
   "cell_type": "code",
   "execution_count": 71,
   "id": "68bb5922",
   "metadata": {},
   "outputs": [
    {
     "data": {
      "text/html": [
       "<div>\n",
       "<style scoped>\n",
       "    .dataframe tbody tr th:only-of-type {\n",
       "        vertical-align: middle;\n",
       "    }\n",
       "\n",
       "    .dataframe tbody tr th {\n",
       "        vertical-align: top;\n",
       "    }\n",
       "\n",
       "    .dataframe thead th {\n",
       "        text-align: right;\n",
       "    }\n",
       "</style>\n",
       "<table border=\"1\" class=\"dataframe\">\n",
       "  <thead>\n",
       "    <tr style=\"text-align: right;\">\n",
       "      <th></th>\n",
       "      <th>Formatted Date</th>\n",
       "      <th>Summary</th>\n",
       "      <th>Precip Type</th>\n",
       "      <th>Temperature (C)</th>\n",
       "      <th>Apparent Temperature (C)</th>\n",
       "      <th>Humidity</th>\n",
       "      <th>Wind Speed (km/h)</th>\n",
       "      <th>Wind Bearing (degrees)</th>\n",
       "      <th>Visibility (km)</th>\n",
       "      <th>Loud Cover</th>\n",
       "      <th>Pressure (millibars)</th>\n",
       "      <th>Daily Summary</th>\n",
       "      <th>year</th>\n",
       "      <th>month</th>\n",
       "      <th>day</th>\n",
       "      <th>hour</th>\n",
       "      <th>year_month</th>\n",
       "      <th>season</th>\n",
       "    </tr>\n",
       "  </thead>\n",
       "  <tbody>\n",
       "    <tr>\n",
       "      <th>0</th>\n",
       "      <td>2006-04-01 00:00:00.000 +0200</td>\n",
       "      <td>Partly Cloudy</td>\n",
       "      <td>rain</td>\n",
       "      <td>9.472222</td>\n",
       "      <td>7.388889</td>\n",
       "      <td>0.89</td>\n",
       "      <td>14.1197</td>\n",
       "      <td>251.0</td>\n",
       "      <td>15.8263</td>\n",
       "      <td>0.0</td>\n",
       "      <td>1015.13</td>\n",
       "      <td>Partly cloudy throughout the day.</td>\n",
       "      <td>2006</td>\n",
       "      <td>4</td>\n",
       "      <td>1</td>\n",
       "      <td>0</td>\n",
       "      <td>2006_4</td>\n",
       "      <td>1</td>\n",
       "    </tr>\n",
       "    <tr>\n",
       "      <th>1</th>\n",
       "      <td>2006-04-01 01:00:00.000 +0200</td>\n",
       "      <td>Partly Cloudy</td>\n",
       "      <td>rain</td>\n",
       "      <td>9.355556</td>\n",
       "      <td>7.227778</td>\n",
       "      <td>0.86</td>\n",
       "      <td>14.2646</td>\n",
       "      <td>259.0</td>\n",
       "      <td>15.8263</td>\n",
       "      <td>0.0</td>\n",
       "      <td>1015.63</td>\n",
       "      <td>Partly cloudy throughout the day.</td>\n",
       "      <td>2006</td>\n",
       "      <td>4</td>\n",
       "      <td>1</td>\n",
       "      <td>1</td>\n",
       "      <td>2006_4</td>\n",
       "      <td>1</td>\n",
       "    </tr>\n",
       "    <tr>\n",
       "      <th>2</th>\n",
       "      <td>2006-04-01 02:00:00.000 +0200</td>\n",
       "      <td>Mostly Cloudy</td>\n",
       "      <td>rain</td>\n",
       "      <td>9.377778</td>\n",
       "      <td>9.377778</td>\n",
       "      <td>0.89</td>\n",
       "      <td>3.9284</td>\n",
       "      <td>204.0</td>\n",
       "      <td>14.9569</td>\n",
       "      <td>0.0</td>\n",
       "      <td>1015.94</td>\n",
       "      <td>Partly cloudy throughout the day.</td>\n",
       "      <td>2006</td>\n",
       "      <td>4</td>\n",
       "      <td>1</td>\n",
       "      <td>2</td>\n",
       "      <td>2006_4</td>\n",
       "      <td>1</td>\n",
       "    </tr>\n",
       "    <tr>\n",
       "      <th>3</th>\n",
       "      <td>2006-04-01 03:00:00.000 +0200</td>\n",
       "      <td>Partly Cloudy</td>\n",
       "      <td>rain</td>\n",
       "      <td>8.288889</td>\n",
       "      <td>5.944444</td>\n",
       "      <td>0.83</td>\n",
       "      <td>14.1036</td>\n",
       "      <td>269.0</td>\n",
       "      <td>15.8263</td>\n",
       "      <td>0.0</td>\n",
       "      <td>1016.41</td>\n",
       "      <td>Partly cloudy throughout the day.</td>\n",
       "      <td>2006</td>\n",
       "      <td>4</td>\n",
       "      <td>1</td>\n",
       "      <td>3</td>\n",
       "      <td>2006_4</td>\n",
       "      <td>1</td>\n",
       "    </tr>\n",
       "    <tr>\n",
       "      <th>4</th>\n",
       "      <td>2006-04-01 04:00:00.000 +0200</td>\n",
       "      <td>Mostly Cloudy</td>\n",
       "      <td>rain</td>\n",
       "      <td>8.755556</td>\n",
       "      <td>6.977778</td>\n",
       "      <td>0.83</td>\n",
       "      <td>11.0446</td>\n",
       "      <td>259.0</td>\n",
       "      <td>15.8263</td>\n",
       "      <td>0.0</td>\n",
       "      <td>1016.51</td>\n",
       "      <td>Partly cloudy throughout the day.</td>\n",
       "      <td>2006</td>\n",
       "      <td>4</td>\n",
       "      <td>1</td>\n",
       "      <td>4</td>\n",
       "      <td>2006_4</td>\n",
       "      <td>1</td>\n",
       "    </tr>\n",
       "    <tr>\n",
       "      <th>5</th>\n",
       "      <td>2006-04-01 05:00:00.000 +0200</td>\n",
       "      <td>Partly Cloudy</td>\n",
       "      <td>rain</td>\n",
       "      <td>9.222222</td>\n",
       "      <td>7.111111</td>\n",
       "      <td>0.85</td>\n",
       "      <td>13.9587</td>\n",
       "      <td>258.0</td>\n",
       "      <td>14.9569</td>\n",
       "      <td>0.0</td>\n",
       "      <td>1016.66</td>\n",
       "      <td>Partly cloudy throughout the day.</td>\n",
       "      <td>2006</td>\n",
       "      <td>4</td>\n",
       "      <td>1</td>\n",
       "      <td>5</td>\n",
       "      <td>2006_4</td>\n",
       "      <td>1</td>\n",
       "    </tr>\n",
       "    <tr>\n",
       "      <th>6</th>\n",
       "      <td>2006-04-01 06:00:00.000 +0200</td>\n",
       "      <td>Partly Cloudy</td>\n",
       "      <td>rain</td>\n",
       "      <td>7.733333</td>\n",
       "      <td>5.522222</td>\n",
       "      <td>0.95</td>\n",
       "      <td>12.3648</td>\n",
       "      <td>259.0</td>\n",
       "      <td>9.9820</td>\n",
       "      <td>0.0</td>\n",
       "      <td>1016.72</td>\n",
       "      <td>Partly cloudy throughout the day.</td>\n",
       "      <td>2006</td>\n",
       "      <td>4</td>\n",
       "      <td>1</td>\n",
       "      <td>6</td>\n",
       "      <td>2006_4</td>\n",
       "      <td>1</td>\n",
       "    </tr>\n",
       "    <tr>\n",
       "      <th>7</th>\n",
       "      <td>2006-04-01 07:00:00.000 +0200</td>\n",
       "      <td>Partly Cloudy</td>\n",
       "      <td>rain</td>\n",
       "      <td>8.772222</td>\n",
       "      <td>6.527778</td>\n",
       "      <td>0.89</td>\n",
       "      <td>14.1519</td>\n",
       "      <td>260.0</td>\n",
       "      <td>9.9820</td>\n",
       "      <td>0.0</td>\n",
       "      <td>1016.84</td>\n",
       "      <td>Partly cloudy throughout the day.</td>\n",
       "      <td>2006</td>\n",
       "      <td>4</td>\n",
       "      <td>1</td>\n",
       "      <td>7</td>\n",
       "      <td>2006_4</td>\n",
       "      <td>1</td>\n",
       "    </tr>\n",
       "    <tr>\n",
       "      <th>8</th>\n",
       "      <td>2006-04-01 08:00:00.000 +0200</td>\n",
       "      <td>Partly Cloudy</td>\n",
       "      <td>rain</td>\n",
       "      <td>10.822222</td>\n",
       "      <td>10.822222</td>\n",
       "      <td>0.82</td>\n",
       "      <td>11.3183</td>\n",
       "      <td>259.0</td>\n",
       "      <td>9.9820</td>\n",
       "      <td>0.0</td>\n",
       "      <td>1017.37</td>\n",
       "      <td>Partly cloudy throughout the day.</td>\n",
       "      <td>2006</td>\n",
       "      <td>4</td>\n",
       "      <td>1</td>\n",
       "      <td>8</td>\n",
       "      <td>2006_4</td>\n",
       "      <td>1</td>\n",
       "    </tr>\n",
       "    <tr>\n",
       "      <th>9</th>\n",
       "      <td>2006-04-01 09:00:00.000 +0200</td>\n",
       "      <td>Partly Cloudy</td>\n",
       "      <td>rain</td>\n",
       "      <td>13.772222</td>\n",
       "      <td>13.772222</td>\n",
       "      <td>0.72</td>\n",
       "      <td>12.5258</td>\n",
       "      <td>279.0</td>\n",
       "      <td>9.9820</td>\n",
       "      <td>0.0</td>\n",
       "      <td>1017.22</td>\n",
       "      <td>Partly cloudy throughout the day.</td>\n",
       "      <td>2006</td>\n",
       "      <td>4</td>\n",
       "      <td>1</td>\n",
       "      <td>9</td>\n",
       "      <td>2006_4</td>\n",
       "      <td>1</td>\n",
       "    </tr>\n",
       "  </tbody>\n",
       "</table>\n",
       "</div>"
      ],
      "text/plain": [
       "                  Formatted Date        Summary Precip Type  Temperature (C)  \\\n",
       "0  2006-04-01 00:00:00.000 +0200  Partly Cloudy        rain         9.472222   \n",
       "1  2006-04-01 01:00:00.000 +0200  Partly Cloudy        rain         9.355556   \n",
       "2  2006-04-01 02:00:00.000 +0200  Mostly Cloudy        rain         9.377778   \n",
       "3  2006-04-01 03:00:00.000 +0200  Partly Cloudy        rain         8.288889   \n",
       "4  2006-04-01 04:00:00.000 +0200  Mostly Cloudy        rain         8.755556   \n",
       "5  2006-04-01 05:00:00.000 +0200  Partly Cloudy        rain         9.222222   \n",
       "6  2006-04-01 06:00:00.000 +0200  Partly Cloudy        rain         7.733333   \n",
       "7  2006-04-01 07:00:00.000 +0200  Partly Cloudy        rain         8.772222   \n",
       "8  2006-04-01 08:00:00.000 +0200  Partly Cloudy        rain        10.822222   \n",
       "9  2006-04-01 09:00:00.000 +0200  Partly Cloudy        rain        13.772222   \n",
       "\n",
       "   Apparent Temperature (C)  Humidity  Wind Speed (km/h)  \\\n",
       "0                  7.388889      0.89            14.1197   \n",
       "1                  7.227778      0.86            14.2646   \n",
       "2                  9.377778      0.89             3.9284   \n",
       "3                  5.944444      0.83            14.1036   \n",
       "4                  6.977778      0.83            11.0446   \n",
       "5                  7.111111      0.85            13.9587   \n",
       "6                  5.522222      0.95            12.3648   \n",
       "7                  6.527778      0.89            14.1519   \n",
       "8                 10.822222      0.82            11.3183   \n",
       "9                 13.772222      0.72            12.5258   \n",
       "\n",
       "   Wind Bearing (degrees)  Visibility (km)  Loud Cover  Pressure (millibars)  \\\n",
       "0                   251.0          15.8263         0.0               1015.13   \n",
       "1                   259.0          15.8263         0.0               1015.63   \n",
       "2                   204.0          14.9569         0.0               1015.94   \n",
       "3                   269.0          15.8263         0.0               1016.41   \n",
       "4                   259.0          15.8263         0.0               1016.51   \n",
       "5                   258.0          14.9569         0.0               1016.66   \n",
       "6                   259.0           9.9820         0.0               1016.72   \n",
       "7                   260.0           9.9820         0.0               1016.84   \n",
       "8                   259.0           9.9820         0.0               1017.37   \n",
       "9                   279.0           9.9820         0.0               1017.22   \n",
       "\n",
       "                       Daily Summary  year  month  day  hour year_month  \\\n",
       "0  Partly cloudy throughout the day.  2006      4    1     0     2006_4   \n",
       "1  Partly cloudy throughout the day.  2006      4    1     1     2006_4   \n",
       "2  Partly cloudy throughout the day.  2006      4    1     2     2006_4   \n",
       "3  Partly cloudy throughout the day.  2006      4    1     3     2006_4   \n",
       "4  Partly cloudy throughout the day.  2006      4    1     4     2006_4   \n",
       "5  Partly cloudy throughout the day.  2006      4    1     5     2006_4   \n",
       "6  Partly cloudy throughout the day.  2006      4    1     6     2006_4   \n",
       "7  Partly cloudy throughout the day.  2006      4    1     7     2006_4   \n",
       "8  Partly cloudy throughout the day.  2006      4    1     8     2006_4   \n",
       "9  Partly cloudy throughout the day.  2006      4    1     9     2006_4   \n",
       "\n",
       "   season  \n",
       "0       1  \n",
       "1       1  \n",
       "2       1  \n",
       "3       1  \n",
       "4       1  \n",
       "5       1  \n",
       "6       1  \n",
       "7       1  \n",
       "8       1  \n",
       "9       1  "
      ]
     },
     "execution_count": 71,
     "metadata": {},
     "output_type": "execute_result"
    }
   ],
   "source": [
    "data['year'] = pd.DataFrame(data['Formatted Date'].apply(lambda x: pd.to_datetime(x).year))\n",
    "data['month'] = pd.DataFrame(data['Formatted Date'].apply(lambda x: pd.to_datetime(x).month))\n",
    "data['day'] = pd.DataFrame(data['Formatted Date'].apply(lambda x: pd.to_datetime(x).day))\n",
    "data['hour'] = pd.DataFrame(data['Formatted Date'].apply(lambda x: pd.to_datetime(x).hour))\n",
    "\n",
    "data['season'] = pd.DataFrame(data['month'].apply(lambda x: 0 if x == 12 else x//3 ))\n",
    "\n",
    "data.head(10)"
   ]
  },
  {
   "cell_type": "code",
   "execution_count": 7,
   "id": "6ea7f80c",
   "metadata": {},
   "outputs": [
    {
     "data": {
      "text/plain": [
       "[('Formatted Date', ('object', 0)),\n",
       " ('Summary', ('object', 0)),\n",
       " ('Precip Type', ('object', 517)),\n",
       " ('Temperature (C)', ('float64', 0)),\n",
       " ('Apparent Temperature (C)', ('float64', 0)),\n",
       " ('Humidity', ('float64', 0)),\n",
       " ('Wind Speed (km/h)', ('float64', 0)),\n",
       " ('Wind Bearing (degrees)', ('float64', 0)),\n",
       " ('Visibility (km)', ('float64', 0)),\n",
       " ('Loud Cover', ('float64', 0)),\n",
       " ('Pressure (millibars)', ('float64', 0)),\n",
       " ('Daily Summary', ('object', 0)),\n",
       " ('year', ('int64', 0)),\n",
       " ('month', ('int64', 0)),\n",
       " ('day', ('int64', 0)),\n",
       " ('hour', ('int64', 0)),\n",
       " ('year_month', ('object', 0))]"
      ]
     },
     "execution_count": 7,
     "metadata": {},
     "output_type": "execute_result"
    }
   ],
   "source": [
    "data_features = list(zip(\n",
    "# признаки\n",
    "[i for i in data.columns],\n",
    "zip(\n",
    "    # типы колонок\n",
    "    [str(i) for i in data.dtypes],\n",
    "    # проверим есть ли пропущенные значения\n",
    "    [i for i in data.isnull().sum()]\n",
    ")))\n",
    "# Признаки с типом данных и количеством пропусков\n",
    "data_features"
   ]
  },
  {
   "cell_type": "code",
   "execution_count": 8,
   "id": "7d7c119f",
   "metadata": {},
   "outputs": [
    {
     "data": {
      "image/png": "[encoded data removed]",
      "text/plain": [
       "<Figure size 720x720 with 12 Axes>"
      ]
     },
     "metadata": {
      "needs_background": "light"
     },
     "output_type": "display_data"
    }
   ],
   "source": [
    "data.hist(figsize=(10,10));"
   ]
  },
  {
   "cell_type": "markdown",
   "id": "f2eadb9a",
   "metadata": {},
   "source": [
    "# ШАГ 1"
   ]
  },
  {
   "cell_type": "code",
   "execution_count": 10,
   "id": "eaae3fc5",
   "metadata": {},
   "outputs": [
    {
     "data": {
      "text/plain": [
       "<AxesSubplot:>"
      ]
     },
     "execution_count": 10,
     "metadata": {},
     "output_type": "execute_result"
    },
    {
     "data": {
      "image/png": "[encoded data removed]",
      "text/plain": [
       "<Figure size 432x288 with 1 Axes>"
      ]
     },
     "metadata": {
      "needs_background": "light"
     },
     "output_type": "display_data"
    }
   ],
   "source": [
    "# зависимость видимости от времени\n",
    "hum_avg = []\n",
    "# vis_avg = []\n",
    "hour_list = data['hour'].unique()\n",
    "for hour in hour_list:\n",
    "    hum_avg.append(data[data['hour']==hour]['Humidity'].mean())\n",
    "#     vis_avg.append(data[data['hour']==hour]['Visibility (km)'].mean())\n",
    "\n",
    "sns.regplot(x=hour_list, y=vis_avg)"
   ]
  },
  {
   "cell_type": "code",
   "execution_count": null,
   "id": "745d725d",
   "metadata": {},
   "outputs": [],
   "source": [
    "# Как видно из диаграммы, ночью видимо значительно хуже. Самый лучший показатель видимости выпадает на 6 утра. Днём видимость средняя."
   ]
  },
  {
   "cell_type": "markdown",
   "id": "dcd4e0b2",
   "metadata": {},
   "source": [
    "# ШАГ 2"
   ]
  },
  {
   "cell_type": "code",
   "execution_count": 13,
   "id": "f21e4cca",
   "metadata": {},
   "outputs": [
    {
     "data": {
      "text/plain": [
       "<AxesSubplot:>"
      ]
     },
     "execution_count": 13,
     "metadata": {},
     "output_type": "execute_result"
    },
    {
     "data": {
      "image/png": "[encoded data removed]",
      "text/plain": [
       "<Figure size 432x288 with 2 Axes>"
      ]
     },
     "metadata": {
      "needs_background": "light"
     },
     "output_type": "display_data"
    }
   ],
   "source": [
    "sns.heatmap(data.corr())"
   ]
  },
  {
   "cell_type": "code",
   "execution_count": 11,
   "id": "66ccc785",
   "metadata": {},
   "outputs": [
    {
     "data": {
      "text/html": [
       "<div>\n",
       "<style scoped>\n",
       "    .dataframe tbody tr th:only-of-type {\n",
       "        vertical-align: middle;\n",
       "    }\n",
       "\n",
       "    .dataframe tbody tr th {\n",
       "        vertical-align: top;\n",
       "    }\n",
       "\n",
       "    .dataframe thead th {\n",
       "        text-align: right;\n",
       "    }\n",
       "</style>\n",
       "<table border=\"1\" class=\"dataframe\">\n",
       "  <thead>\n",
       "    <tr style=\"text-align: right;\">\n",
       "      <th></th>\n",
       "      <th>Temperature (C)</th>\n",
       "      <th>Apparent Temperature (C)</th>\n",
       "      <th>Humidity</th>\n",
       "      <th>Wind Speed (km/h)</th>\n",
       "      <th>Wind Bearing (degrees)</th>\n",
       "      <th>Visibility (km)</th>\n",
       "      <th>Loud Cover</th>\n",
       "      <th>Pressure (millibars)</th>\n",
       "      <th>year</th>\n",
       "      <th>month</th>\n",
       "      <th>day</th>\n",
       "      <th>hour</th>\n",
       "    </tr>\n",
       "  </thead>\n",
       "  <tbody>\n",
       "    <tr>\n",
       "      <th>Temperature (C)</th>\n",
       "      <td>1.000000</td>\n",
       "      <td>0.992629</td>\n",
       "      <td>-0.632255</td>\n",
       "      <td>0.008957</td>\n",
       "      <td>0.029988</td>\n",
       "      <td>0.392847</td>\n",
       "      <td>NaN</td>\n",
       "      <td>-0.005447</td>\n",
       "      <td>0.017406</td>\n",
       "      <td>0.149110</td>\n",
       "      <td>-0.000388</td>\n",
       "      <td>0.170134</td>\n",
       "    </tr>\n",
       "    <tr>\n",
       "      <th>Apparent Temperature (C)</th>\n",
       "      <td>0.992629</td>\n",
       "      <td>1.000000</td>\n",
       "      <td>-0.602571</td>\n",
       "      <td>-0.056650</td>\n",
       "      <td>0.029031</td>\n",
       "      <td>0.381718</td>\n",
       "      <td>NaN</td>\n",
       "      <td>-0.000219</td>\n",
       "      <td>0.017118</td>\n",
       "      <td>0.158522</td>\n",
       "      <td>0.002018</td>\n",
       "      <td>0.160574</td>\n",
       "    </tr>\n",
       "    <tr>\n",
       "      <th>Humidity</th>\n",
       "      <td>-0.632255</td>\n",
       "      <td>-0.602571</td>\n",
       "      <td>1.000000</td>\n",
       "      <td>-0.224951</td>\n",
       "      <td>0.000735</td>\n",
       "      <td>-0.369173</td>\n",
       "      <td>NaN</td>\n",
       "      <td>0.005454</td>\n",
       "      <td>0.039289</td>\n",
       "      <td>0.056429</td>\n",
       "      <td>0.005107</td>\n",
       "      <td>-0.285991</td>\n",
       "    </tr>\n",
       "    <tr>\n",
       "      <th>Wind Speed (km/h)</th>\n",
       "      <td>0.008957</td>\n",
       "      <td>-0.056650</td>\n",
       "      <td>-0.224951</td>\n",
       "      <td>1.000000</td>\n",
       "      <td>0.103822</td>\n",
       "      <td>0.100749</td>\n",
       "      <td>NaN</td>\n",
       "      <td>-0.049263</td>\n",
       "      <td>-0.004261</td>\n",
       "      <td>-0.098950</td>\n",
       "      <td>-0.006131</td>\n",
       "      <td>0.067615</td>\n",
       "    </tr>\n",
       "    <tr>\n",
       "      <th>Wind Bearing (degrees)</th>\n",
       "      <td>0.029988</td>\n",
       "      <td>0.029031</td>\n",
       "      <td>0.000735</td>\n",
       "      <td>0.103822</td>\n",
       "      <td>1.000000</td>\n",
       "      <td>0.047594</td>\n",
       "      <td>NaN</td>\n",
       "      <td>-0.011651</td>\n",
       "      <td>-0.025696</td>\n",
       "      <td>-0.019092</td>\n",
       "      <td>-0.003388</td>\n",
       "      <td>-0.003983</td>\n",
       "    </tr>\n",
       "    <tr>\n",
       "      <th>Visibility (km)</th>\n",
       "      <td>0.392847</td>\n",
       "      <td>0.381718</td>\n",
       "      <td>-0.369173</td>\n",
       "      <td>0.100749</td>\n",
       "      <td>0.047594</td>\n",
       "      <td>1.000000</td>\n",
       "      <td>NaN</td>\n",
       "      <td>0.059818</td>\n",
       "      <td>0.107268</td>\n",
       "      <td>-0.071159</td>\n",
       "      <td>-0.026578</td>\n",
       "      <td>0.004951</td>\n",
       "    </tr>\n",
       "    <tr>\n",
       "      <th>Loud Cover</th>\n",
       "      <td>NaN</td>\n",
       "      <td>NaN</td>\n",
       "      <td>NaN</td>\n",
       "      <td>NaN</td>\n",
       "      <td>NaN</td>\n",
       "      <td>NaN</td>\n",
       "      <td>NaN</td>\n",
       "      <td>NaN</td>\n",
       "      <td>NaN</td>\n",
       "      <td>NaN</td>\n",
       "      <td>NaN</td>\n",
       "      <td>NaN</td>\n",
       "    </tr>\n",
       "    <tr>\n",
       "      <th>Pressure (millibars)</th>\n",
       "      <td>-0.005447</td>\n",
       "      <td>-0.000219</td>\n",
       "      <td>0.005454</td>\n",
       "      <td>-0.049263</td>\n",
       "      <td>-0.011651</td>\n",
       "      <td>0.059818</td>\n",
       "      <td>NaN</td>\n",
       "      <td>1.000000</td>\n",
       "      <td>0.016101</td>\n",
       "      <td>-0.019118</td>\n",
       "      <td>-0.014860</td>\n",
       "      <td>0.000335</td>\n",
       "    </tr>\n",
       "    <tr>\n",
       "      <th>year</th>\n",
       "      <td>0.017406</td>\n",
       "      <td>0.017118</td>\n",
       "      <td>0.039289</td>\n",
       "      <td>-0.004261</td>\n",
       "      <td>-0.025696</td>\n",
       "      <td>0.107268</td>\n",
       "      <td>NaN</td>\n",
       "      <td>0.016101</td>\n",
       "      <td>1.000000</td>\n",
       "      <td>-0.000347</td>\n",
       "      <td>0.000474</td>\n",
       "      <td>0.000045</td>\n",
       "    </tr>\n",
       "    <tr>\n",
       "      <th>month</th>\n",
       "      <td>0.149110</td>\n",
       "      <td>0.158522</td>\n",
       "      <td>0.056429</td>\n",
       "      <td>-0.098950</td>\n",
       "      <td>-0.019092</td>\n",
       "      <td>-0.071159</td>\n",
       "      <td>NaN</td>\n",
       "      <td>-0.019118</td>\n",
       "      <td>-0.000347</td>\n",
       "      <td>1.000000</td>\n",
       "      <td>0.010547</td>\n",
       "      <td>-0.000311</td>\n",
       "    </tr>\n",
       "    <tr>\n",
       "      <th>day</th>\n",
       "      <td>-0.000388</td>\n",
       "      <td>0.002018</td>\n",
       "      <td>0.005107</td>\n",
       "      <td>-0.006131</td>\n",
       "      <td>-0.003388</td>\n",
       "      <td>-0.026578</td>\n",
       "      <td>NaN</td>\n",
       "      <td>-0.014860</td>\n",
       "      <td>0.000474</td>\n",
       "      <td>0.010547</td>\n",
       "      <td>1.000000</td>\n",
       "      <td>-0.000006</td>\n",
       "    </tr>\n",
       "    <tr>\n",
       "      <th>hour</th>\n",
       "      <td>0.170134</td>\n",
       "      <td>0.160574</td>\n",
       "      <td>-0.285991</td>\n",
       "      <td>0.067615</td>\n",
       "      <td>-0.003983</td>\n",
       "      <td>0.004951</td>\n",
       "      <td>NaN</td>\n",
       "      <td>0.000335</td>\n",
       "      <td>0.000045</td>\n",
       "      <td>-0.000311</td>\n",
       "      <td>-0.000006</td>\n",
       "      <td>1.000000</td>\n",
       "    </tr>\n",
       "  </tbody>\n",
       "</table>\n",
       "</div>"
      ],
      "text/plain": [
       "                          Temperature (C)  Apparent Temperature (C)  Humidity  \\\n",
       "Temperature (C)                  1.000000                  0.992629 -0.632255   \n",
       "Apparent Temperature (C)         0.992629                  1.000000 -0.602571   \n",
       "Humidity                        -0.632255                 -0.602571  1.000000   \n",
       "Wind Speed (km/h)                0.008957                 -0.056650 -0.224951   \n",
       "Wind Bearing (degrees)           0.029988                  0.029031  0.000735   \n",
       "Visibility (km)                  0.392847                  0.381718 -0.369173   \n",
       "Loud Cover                            NaN                       NaN       NaN   \n",
       "Pressure (millibars)            -0.005447                 -0.000219  0.005454   \n",
       "year                             0.017406                  0.017118  0.039289   \n",
       "month                            0.149110                  0.158522  0.056429   \n",
       "day                             -0.000388                  0.002018  0.005107   \n",
       "hour                             0.170134                  0.160574 -0.285991   \n",
       "\n",
       "                          Wind Speed (km/h)  Wind Bearing (degrees)  \\\n",
       "Temperature (C)                    0.008957                0.029988   \n",
       "Apparent Temperature (C)          -0.056650                0.029031   \n",
       "Humidity                          -0.224951                0.000735   \n",
       "Wind Speed (km/h)                  1.000000                0.103822   \n",
       "Wind Bearing (degrees)             0.103822                1.000000   \n",
       "Visibility (km)                    0.100749                0.047594   \n",
       "Loud Cover                              NaN                     NaN   \n",
       "Pressure (millibars)              -0.049263               -0.011651   \n",
       "year                              -0.004261               -0.025696   \n",
       "month                             -0.098950               -0.019092   \n",
       "day                               -0.006131               -0.003388   \n",
       "hour                               0.067615               -0.003983   \n",
       "\n",
       "                          Visibility (km)  Loud Cover  Pressure (millibars)  \\\n",
       "Temperature (C)                  0.392847         NaN             -0.005447   \n",
       "Apparent Temperature (C)         0.381718         NaN             -0.000219   \n",
       "Humidity                        -0.369173         NaN              0.005454   \n",
       "Wind Speed (km/h)                0.100749         NaN             -0.049263   \n",
       "Wind Bearing (degrees)           0.047594         NaN             -0.011651   \n",
       "Visibility (km)                  1.000000         NaN              0.059818   \n",
       "Loud Cover                            NaN         NaN                   NaN   \n",
       "Pressure (millibars)             0.059818         NaN              1.000000   \n",
       "year                             0.107268         NaN              0.016101   \n",
       "month                           -0.071159         NaN             -0.019118   \n",
       "day                             -0.026578         NaN             -0.014860   \n",
       "hour                             0.004951         NaN              0.000335   \n",
       "\n",
       "                              year     month       day      hour  \n",
       "Temperature (C)           0.017406  0.149110 -0.000388  0.170134  \n",
       "Apparent Temperature (C)  0.017118  0.158522  0.002018  0.160574  \n",
       "Humidity                  0.039289  0.056429  0.005107 -0.285991  \n",
       "Wind Speed (km/h)        -0.004261 -0.098950 -0.006131  0.067615  \n",
       "Wind Bearing (degrees)   -0.025696 -0.019092 -0.003388 -0.003983  \n",
       "Visibility (km)           0.107268 -0.071159 -0.026578  0.004951  \n",
       "Loud Cover                     NaN       NaN       NaN       NaN  \n",
       "Pressure (millibars)      0.016101 -0.019118 -0.014860  0.000335  \n",
       "year                      1.000000 -0.000347  0.000474  0.000045  \n",
       "month                    -0.000347  1.000000  0.010547 -0.000311  \n",
       "day                       0.000474  0.010547  1.000000 -0.000006  \n",
       "hour                      0.000045 -0.000311 -0.000006  1.000000  "
      ]
     },
     "execution_count": 11,
     "metadata": {},
     "output_type": "execute_result"
    }
   ],
   "source": [
    "# Но в Датасете даны два столбца: температура воздуха и ощущаемая температура. \n",
    "# Необходимо понять какое из этих значение больше релевантно использовать в случае обучения нейросети для определения влажности.\n",
    "data.corr()"
   ]
  },
  {
   "cell_type": "code",
   "execution_count": 14,
   "id": "9916c033",
   "metadata": {},
   "outputs": [],
   "source": [
    "# Корреляция между температурой и ощущаемой температурой почти равна единице, это значит, что нельзя одновременно\n",
    "# использовать эти оба признака для обучения.\n",
    "\n",
    "# Смотрим на корреляцию между температурой и влажностью (-0.63)\n",
    "# И между ощущаемой температорй и влажностью (-0.60)\n",
    "\n",
    "# Принципиально сейчас не важно, то всё таки лучше использовать признак, который имеет большую корреляцию с целевым признаком,\n",
    "# значит ощущаемой температурой можно пренебреч"
   ]
  },
  {
   "cell_type": "markdown",
   "id": "1a500759",
   "metadata": {},
   "source": [
    "# ШАГ 3"
   ]
  },
  {
   "cell_type": "code",
   "execution_count": 15,
   "id": "109a7c43",
   "metadata": {},
   "outputs": [],
   "source": [
    "# Как влажность и температура меняются в течении дня\n",
    "hum_avg = []\n",
    "t_avg = []\n",
    "hour_list = data['hour'].unique()\n",
    "for hour in hour_list:\n",
    "    hum_avg.append(data[data['hour']==hour]['Humidity'].mean())\n",
    "    t_avg.append(data[data['hour']==hour]['Temperature (C)'].mean()) "
   ]
  },
  {
   "cell_type": "code",
   "execution_count": 17,
   "id": "0e3c6efd",
   "metadata": {},
   "outputs": [
    {
     "data": {
      "text/html": [
       "<div>\n",
       "<style scoped>\n",
       "    .dataframe tbody tr th:only-of-type {\n",
       "        vertical-align: middle;\n",
       "    }\n",
       "\n",
       "    .dataframe tbody tr th {\n",
       "        vertical-align: top;\n",
       "    }\n",
       "\n",
       "    .dataframe thead th {\n",
       "        text-align: right;\n",
       "    }\n",
       "</style>\n",
       "<table border=\"1\" class=\"dataframe\">\n",
       "  <thead>\n",
       "    <tr style=\"text-align: right;\">\n",
       "      <th></th>\n",
       "      <th>hum_avg</th>\n",
       "      <th>t_avg</th>\n",
       "      <th>hour</th>\n",
       "    </tr>\n",
       "  </thead>\n",
       "  <tbody>\n",
       "    <tr>\n",
       "      <th>0</th>\n",
       "      <td>0.824321</td>\n",
       "      <td>9.472529</td>\n",
       "      <td>0</td>\n",
       "    </tr>\n",
       "    <tr>\n",
       "      <th>1</th>\n",
       "      <td>0.838522</td>\n",
       "      <td>9.056754</td>\n",
       "      <td>1</td>\n",
       "    </tr>\n",
       "    <tr>\n",
       "      <th>2</th>\n",
       "      <td>0.848201</td>\n",
       "      <td>8.746398</td>\n",
       "      <td>2</td>\n",
       "    </tr>\n",
       "    <tr>\n",
       "      <th>3</th>\n",
       "      <td>0.856820</td>\n",
       "      <td>8.323950</td>\n",
       "      <td>3</td>\n",
       "    </tr>\n",
       "    <tr>\n",
       "      <th>4</th>\n",
       "      <td>0.865661</td>\n",
       "      <td>8.058013</td>\n",
       "      <td>4</td>\n",
       "    </tr>\n",
       "    <tr>\n",
       "      <th>5</th>\n",
       "      <td>0.870639</td>\n",
       "      <td>7.859631</td>\n",
       "      <td>5</td>\n",
       "    </tr>\n",
       "    <tr>\n",
       "      <th>6</th>\n",
       "      <td>0.869669</td>\n",
       "      <td>7.951559</td>\n",
       "      <td>6</td>\n",
       "    </tr>\n",
       "    <tr>\n",
       "      <th>7</th>\n",
       "      <td>0.843172</td>\n",
       "      <td>8.928751</td>\n",
       "      <td>7</td>\n",
       "    </tr>\n",
       "    <tr>\n",
       "      <th>8</th>\n",
       "      <td>0.796089</td>\n",
       "      <td>10.398009</td>\n",
       "      <td>8</td>\n",
       "    </tr>\n",
       "    <tr>\n",
       "      <th>9</th>\n",
       "      <td>0.736004</td>\n",
       "      <td>12.029365</td>\n",
       "      <td>9</td>\n",
       "    </tr>\n",
       "    <tr>\n",
       "      <th>10</th>\n",
       "      <td>0.686367</td>\n",
       "      <td>13.456610</td>\n",
       "      <td>10</td>\n",
       "    </tr>\n",
       "    <tr>\n",
       "      <th>11</th>\n",
       "      <td>0.640495</td>\n",
       "      <td>14.586764</td>\n",
       "      <td>11</td>\n",
       "    </tr>\n",
       "    <tr>\n",
       "      <th>12</th>\n",
       "      <td>0.608248</td>\n",
       "      <td>15.473085</td>\n",
       "      <td>12</td>\n",
       "    </tr>\n",
       "    <tr>\n",
       "      <th>13</th>\n",
       "      <td>0.586362</td>\n",
       "      <td>16.044309</td>\n",
       "      <td>13</td>\n",
       "    </tr>\n",
       "    <tr>\n",
       "      <th>14</th>\n",
       "      <td>0.574222</td>\n",
       "      <td>16.337874</td>\n",
       "      <td>14</td>\n",
       "    </tr>\n",
       "    <tr>\n",
       "      <th>15</th>\n",
       "      <td>0.573680</td>\n",
       "      <td>16.387671</td>\n",
       "      <td>15</td>\n",
       "    </tr>\n",
       "    <tr>\n",
       "      <th>16</th>\n",
       "      <td>0.584874</td>\n",
       "      <td>16.049035</td>\n",
       "      <td>16</td>\n",
       "    </tr>\n",
       "    <tr>\n",
       "      <th>17</th>\n",
       "      <td>0.606099</td>\n",
       "      <td>15.417771</td>\n",
       "      <td>17</td>\n",
       "    </tr>\n",
       "    <tr>\n",
       "      <th>18</th>\n",
       "      <td>0.641003</td>\n",
       "      <td>14.541242</td>\n",
       "      <td>18</td>\n",
       "    </tr>\n",
       "    <tr>\n",
       "      <th>19</th>\n",
       "      <td>0.684999</td>\n",
       "      <td>13.420982</td>\n",
       "      <td>19</td>\n",
       "    </tr>\n",
       "    <tr>\n",
       "      <th>20</th>\n",
       "      <td>0.730771</td>\n",
       "      <td>12.143099</td>\n",
       "      <td>20</td>\n",
       "    </tr>\n",
       "    <tr>\n",
       "      <th>21</th>\n",
       "      <td>0.773431</td>\n",
       "      <td>11.060189</td>\n",
       "      <td>21</td>\n",
       "    </tr>\n",
       "    <tr>\n",
       "      <th>22</th>\n",
       "      <td>0.790199</td>\n",
       "      <td>10.595614</td>\n",
       "      <td>22</td>\n",
       "    </tr>\n",
       "    <tr>\n",
       "      <th>23</th>\n",
       "      <td>0.807803</td>\n",
       "      <td>10.042956</td>\n",
       "      <td>23</td>\n",
       "    </tr>\n",
       "  </tbody>\n",
       "</table>\n",
       "</div>"
      ],
      "text/plain": [
       "     hum_avg      t_avg  hour\n",
       "0   0.824321   9.472529     0\n",
       "1   0.838522   9.056754     1\n",
       "2   0.848201   8.746398     2\n",
       "3   0.856820   8.323950     3\n",
       "4   0.865661   8.058013     4\n",
       "5   0.870639   7.859631     5\n",
       "6   0.869669   7.951559     6\n",
       "7   0.843172   8.928751     7\n",
       "8   0.796089  10.398009     8\n",
       "9   0.736004  12.029365     9\n",
       "10  0.686367  13.456610    10\n",
       "11  0.640495  14.586764    11\n",
       "12  0.608248  15.473085    12\n",
       "13  0.586362  16.044309    13\n",
       "14  0.574222  16.337874    14\n",
       "15  0.573680  16.387671    15\n",
       "16  0.584874  16.049035    16\n",
       "17  0.606099  15.417771    17\n",
       "18  0.641003  14.541242    18\n",
       "19  0.684999  13.420982    19\n",
       "20  0.730771  12.143099    20\n",
       "21  0.773431  11.060189    21\n",
       "22  0.790199  10.595614    22\n",
       "23  0.807803  10.042956    23"
      ]
     },
     "execution_count": 17,
     "metadata": {},
     "output_type": "execute_result"
    }
   ],
   "source": [
    "df_for_scatterplot = pd.DataFrame(list(zip(hum_avg, t_avg, hour_list)), columns =['hum_avg', 't_avg', 'hour'])\n",
    "df_for_scatterplot"
   ]
  },
  {
   "cell_type": "code",
   "execution_count": 18,
   "id": "84192ca1",
   "metadata": {},
   "outputs": [
    {
     "data": {
      "image/png": "[encoded data removed]",
      "text/plain": [
       "<Figure size 432x288 with 1 Axes>"
      ]
     },
     "metadata": {
      "needs_background": "light"
     },
     "output_type": "display_data"
    }
   ],
   "source": [
    "sns.scatterplot(data = df_for_scatterplot ,x='hour', y='t_avg', size='hum_avg', legend=False, sizes=(20, 700))\n",
    "plt.show()"
   ]
  },
  {
   "cell_type": "markdown",
   "id": "6a0049c3",
   "metadata": {},
   "source": [
    "Как видно из диаграммы влажность ниже, чем выше температура (а температура повышается в дневной период при солнце с 10 до 20 часов). Отсюда можно сделать вывод, что влажность воздуха ниже в период невысоких температур, а это как раз в ночное время. Днём же вероятность высокой влажности намного ниже"
   ]
  },
  {
   "cell_type": "markdown",
   "id": "4ed97e32",
   "metadata": {},
   "source": [
    "# ШАГ 4"
   ]
  },
  {
   "cell_type": "code",
   "execution_count": null,
   "id": "810615df",
   "metadata": {},
   "outputs": [],
   "source": [
    "# Как меняется температу в течении года примерно очевидно. Интересно как меняется скорость ветра в разные сезоны?"
   ]
  },
  {
   "cell_type": "code",
   "execution_count": 83,
   "id": "39e718e2",
   "metadata": {},
   "outputs": [
    {
     "data": {
      "text/plain": [
       "array([2006, 2010, 2007, 2008, 2009, 2011, 2012, 2013, 2014, 2015, 2016],\n",
       "      dtype=int64)"
      ]
     },
     "execution_count": 83,
     "metadata": {},
     "output_type": "execute_result"
    }
   ],
   "source": [
    "data['year'].unique()"
   ]
  },
  {
   "cell_type": "code",
   "execution_count": 78,
   "id": "f48bd363",
   "metadata": {},
   "outputs": [],
   "source": [
    "# Группировку по сезонам\n",
    "season_list = data['season'].unique()\n",
    "day_list = data['day'].unique()\n",
    "wind_avg_year = [list() for _ in range(len(season_list))]\n",
    "\n",
    "\n",
    "season_list.sort()\n",
    "day_list.sort()\n",
    "\n",
    "for season in season_list:\n",
    "    for day in day_list:\n",
    "        wind_avg_year[season-1].append(data[(data['season']==season) & (data['day']==day)]['Wind Speed (km/h)'].mean())\n",
    "    \n",
    "# wind_avg_year[1-1].append((data[data['month']==4) & (data['day']==1)]['Wind Speed (km/h)'])"
   ]
  },
  {
   "cell_type": "code",
   "execution_count": 81,
   "id": "2c8113a0",
   "metadata": {},
   "outputs": [
    {
     "data": {
      "image/png": "[encoded data removed]",
      "text/plain": [
       "<Figure size 432x288 with 1 Axes>"
      ]
     },
     "metadata": {
      "needs_background": "light"
     },
     "output_type": "display_data"
    }
   ],
   "source": [
    "fig, ax = plt.subplots()\n",
    "colors = ['b','g','r','c']\n",
    "for values, color in zip(wind_avg_year, colors):\n",
    "    ax.plot(day_list, values, color=color, lw=3)\n",
    "\n",
    "plt.show()\n",
    "\n",
    "# Синий - Зима\n",
    "# Бирюзовый - Осень\n",
    "# Красный - Лето\n",
    "# Зеленый - Весна"
   ]
  },
  {
   "cell_type": "markdown",
   "id": "fcba661e",
   "metadata": {},
   "source": [
    "Выше представлена диаграмма скорости ветра в течении 10 лет в среднем для каждого сезона.\n",
    "Синий график (Зима) находится выше всех, из этого следует, что зимой ветер сильнее всего. Скорость ветра может достигать до 14 км/час. При этом в среднем не опускается меньше 10 км/час\n",
    "Далее идёт бирюзовый (Осень). Скорость ветра осенью немного ниже чем зимой.\n",
    "Красный график (Лето) находится значительно ниже. Показатели ветра варьируются от 8 до 12 км/час.\n",
    "Меньше всего ветра весной, это зеленый график (весна). Показатели ветра ниже 10 км/час. "
   ]
  },
  {
   "cell_type": "markdown",
   "id": "738c504b",
   "metadata": {},
   "source": [
    "# ШАГ 5"
   ]
  },
  {
   "cell_type": "code",
   "execution_count": 92,
   "id": "4d8aa16a",
   "metadata": {},
   "outputs": [
    {
     "data": {
      "text/plain": [
       "<AxesSubplot:>"
      ]
     },
     "execution_count": 92,
     "metadata": {},
     "output_type": "execute_result"
    },
    {
     "data": {
      "image/png": "[encoded data removed]",
      "text/plain": [
       "<Figure size 432x288 with 1 Axes>"
      ]
     },
     "metadata": {
      "needs_background": "light"
     },
     "output_type": "display_data"
    }
   ],
   "source": [
    "# От чего зависит видимость?\n",
    "hum_avg = []\n",
    "t_avg = []\n",
    "wind_avg = []\n",
    "vis_avg = []\n",
    "deg_avg = []\n",
    "\n",
    "hour_list = data['hour'].unique()\n",
    "for hour in hour_list:\n",
    "    hum_avg.append(data[data['hour']==hour]['Humidity'].mean())\n",
    "    t_avg.append(data[data['hour']==hour]['Temperature (C)'].mean())\n",
    "    wind_avg.append(data[data['hour']==hour]['Wind Speed (km/h)'].mean())\n",
    "    deg_avg.append(data[data['hour']==hour]['Wind Bearing (degrees)'].mean())\n",
    "    vis_avg.append(data[data['hour']==hour]['Visibility (km)'].mean())\n",
    "\n",
    "sns.regplot(x=vis_avg, y=hum_avg)\n",
    "# Зависимость видимости от влажности\n",
    "\n",
    "# Чем выше влага, тем меньше видимость"
   ]
  },
  {
   "cell_type": "code",
   "execution_count": 93,
   "id": "9bf20a26",
   "metadata": {},
   "outputs": [
    {
     "data": {
      "text/plain": [
       "<AxesSubplot:>"
      ]
     },
     "execution_count": 93,
     "metadata": {},
     "output_type": "execute_result"
    },
    {
     "data": {
      "image/png": "[encoded data removed]",
      "text/plain": [
       "<Figure size 432x288 with 1 Axes>"
      ]
     },
     "metadata": {
      "needs_background": "light"
     },
     "output_type": "display_data"
    }
   ],
   "source": [
    "sns.regplot(x=vis_avg, y=t_avg)\n",
    "# Зависимость видимости от температуры\n",
    "\n",
    "# Чем ниже температура, тем выше видимость"
   ]
  },
  {
   "cell_type": "code",
   "execution_count": 94,
   "id": "a65d8a02",
   "metadata": {},
   "outputs": [
    {
     "data": {
      "text/plain": [
       "<AxesSubplot:>"
      ]
     },
     "execution_count": 94,
     "metadata": {},
     "output_type": "execute_result"
    },
    {
     "data": {
      "image/png": "[encoded data removed]",
      "text/plain": [
       "<Figure size 432x288 with 1 Axes>"
      ]
     },
     "metadata": {
      "needs_background": "light"
     },
     "output_type": "display_data"
    }
   ],
   "source": [
    "sns.regplot(x=vis_avg, y=wind_avg)\n",
    "# Зависимость видимости от скорости ветра\n",
    "# Чем выше скорость ветра, тем выше видимость"
   ]
  },
  {
   "cell_type": "code",
   "execution_count": 95,
   "id": "3e7c0c48",
   "metadata": {},
   "outputs": [
    {
     "data": {
      "text/plain": [
       "<AxesSubplot:>"
      ]
     },
     "execution_count": 95,
     "metadata": {},
     "output_type": "execute_result"
    },
    {
     "data": {
      "image/png": "[encoded data removed]",
      "text/plain": [
       "<Figure size 432x288 with 1 Axes>"
      ]
     },
     "metadata": {
      "needs_background": "light"
     },
     "output_type": "display_data"
    }
   ],
   "source": [
    "sns.regplot(x=vis_avg, y=deg_avg)\n",
    "# Зависимость видимости от направления ветра\n",
    "# Направление ветра никак не влияет на видимость."
   ]
  }
 ],
 "metadata": {
  "kernelspec": {
   "display_name": "Python 3",
   "language": "python",
   "name": "python3"
  },
  "language_info": {
   "codemirror_mode": {
    "name": "ipython",
    "version": 3
   },
   "file_extension": ".py",
   "mimetype": "text/x-python",
   "name": "python",
   "nbconvert_exporter": "python",
   "pygments_lexer": "ipython3",
   "version": "3.6.5"
  }
 },
 "nbformat": 4,
 "nbformat_minor": 5
}
